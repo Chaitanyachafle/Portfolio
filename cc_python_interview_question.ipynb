{
  "nbformat": 4,
  "nbformat_minor": 0,
  "metadata": {
    "colab": {
      "provenance": [],
      "authorship_tag": "ABX9TyOQnMAF/6H4nsVt57Xw9/hf",
      "include_colab_link": true
    },
    "kernelspec": {
      "name": "python3",
      "display_name": "Python 3"
    },
    "language_info": {
      "name": "python"
    }
  },
  "cells": [
    {
      "cell_type": "markdown",
      "metadata": {
        "id": "view-in-github",
        "colab_type": "text"
      },
      "source": [
        "<a href=\"https://colab.research.google.com/github/Chaitanyachafle/Portfolio/blob/main/cc_python_interview_question.ipynb\" target=\"_parent\"><img src=\"https://colab.research.google.com/assets/colab-badge.svg\" alt=\"Open In Colab\"/></a>"
      ]
    },
    {
      "cell_type": "markdown",
      "source": [
        "Que1. Given a list of N elements and a number K, check if there is any sub-array whose sum is\n",
        "exactly K\n",
        "A = [1, 4, 2, 7, 9, 10] K=18 output: Yes, as the sum of sub array [2,7,9] is 18"
      ],
      "metadata": {
        "id": "V5RAqmxO5lqP"
      }
    },
    {
      "cell_type": "code",
      "execution_count": null,
      "metadata": {
        "colab": {
          "base_uri": "https://localhost:8080/"
        },
        "id": "AEbSNIH-5f1c",
        "outputId": "c5849a2e-6f43-4f6a-ec61-60036090489d"
      },
      "outputs": [
        {
          "output_type": "execute_result",
          "data": {
            "text/plain": [
              "[(1, 7, 10), (2, 7, 9)]"
            ]
          },
          "metadata": {},
          "execution_count": 2
        }
      ],
      "source": [
        "array = [1, 4, 2, 7, 9, 10]\n",
        "k=18\n",
        "def array_sum(array,k):\n",
        "    lst=[]\n",
        "    for i in range(len(array)):\n",
        "        for j in range(i+1,len(array)):\n",
        "            for l in range (j+1,len(array)):\n",
        "                if array[i] + array[j] + array[l] == k :\n",
        "                    lst.append((array[i], array[j] ,array[l])) # While appending take care of ,\n",
        "    return lst\n",
        "array_sum(array,k)"
      ]
    },
    {
      "cell_type": "markdown",
      "source": [
        "Que2. **Run a Python program to do run length encoding example “abbcdd --> a1b3c1d2“**\n",
        "    This problem has divided in two part:\n",
        "      1. count the number of character: 1,3,1,2\n",
        "      2. concating the sting with number"
      ],
      "metadata": {
        "id": "sTe4jOxM56RX"
      }
    },
    {
      "cell_type": "code",
      "source": [
        "word = \"abbcdd\"\n",
        "\n",
        "def run_length(word):\n",
        "    output = ''\n",
        "    count = 1  # Start count at 1 because we're counting occurrences of characters\n",
        "\n",
        "    for i in range(1, len(word)):  # Loop starts from the second character\n",
        "        if word[i] == word[i-1]:  # Compare current character with the previous one\n",
        "            count += 1  # Increment count if they're the same\n",
        "        else:\n",
        "            output += word[i-1] + str(count)  # Append the previous character and its count\n",
        "            count = 1  # Reset count for the new character\n",
        "\n",
        "    # Append the last character and its count\n",
        "    output += word[-1] + str(count)\n",
        "\n",
        "    return output\n",
        "\n",
        "# Example usage\n",
        "encoded_word = run_length(word)\n",
        "print(encoded_word)  # Outputs: \"a1b2c1d2\"\n"
      ],
      "metadata": {
        "colab": {
          "base_uri": "https://localhost:8080/"
        },
        "id": "81O046RC5yW4",
        "outputId": "77dd60ee-7261-4e74-910d-33460714fea4"
      },
      "execution_count": null,
      "outputs": [
        {
          "output_type": "stream",
          "name": "stdout",
          "text": [
            "a1b2c1d2\n"
          ]
        }
      ]
    },
    {
      "cell_type": "markdown",
      "source": [
        "Que3. Check if a string is palindrome or not"
      ],
      "metadata": {
        "id": "uuUwQLV2LBfu"
      }
    },
    {
      "cell_type": "code",
      "source": [
        "#Check if a string is palindrome or not\n",
        "word=\"malayalam\"\n",
        "if word==word[::-1]: # keep eye on slicing\n",
        "    print(f'{word} is palidrome')\n",
        "else:\n",
        "    print(f'{word} is not palidrome')"
      ],
      "metadata": {
        "colab": {
          "base_uri": "https://localhost:8080/"
        },
        "id": "XwiGIXQPK3cf",
        "outputId": "272eb500-2f09-4928-f35e-b05215745bf6"
      },
      "execution_count": null,
      "outputs": [
        {
          "output_type": "stream",
          "name": "stdout",
          "text": [
            "malayalam is palidrome\n"
          ]
        }
      ]
    },
    {
      "cell_type": "markdown",
      "source": [
        "Que4.**Create the function to create fibonacci function**"
      ],
      "metadata": {
        "id": "x8UgTx_4m37L"
      }
    },
    {
      "cell_type": "code",
      "source": [
        "def fibb2(n):\n",
        "  output=[]\n",
        "  a,b=0,1\n",
        "  while a < n:\n",
        "    output.append(a)\n",
        "    a,b=b,a+b\n",
        "  return output\n",
        "fibb2(10)\n"
      ],
      "metadata": {
        "colab": {
          "base_uri": "https://localhost:8080/"
        },
        "id": "vJSK2Xgsm3VK",
        "outputId": "2d4c84a9-15ed-4197-d3ae-ddb3486c0474"
      },
      "execution_count": null,
      "outputs": [
        {
          "output_type": "execute_result",
          "data": {
            "text/plain": [
              "[0, 1, 1, 2, 3, 5, 8]"
            ]
          },
          "metadata": {},
          "execution_count": 7
        }
      ]
    },
    {
      "cell_type": "markdown",
      "source": [
        "Que5: Write the python function to remove the duplicate character from given input string"
      ],
      "metadata": {
        "id": "GGT_YlljhgI4"
      }
    },
    {
      "cell_type": "code",
      "source": [
        "word='bacbc'\n",
        "output='bac'\n",
        "def remove_duplicate(string):\n",
        "    text=''\n",
        "    for i in string:\n",
        "        if i not in text:\n",
        "            text+=i\n",
        "            #sorted_text=''.join(sorted(text)) #additional step to sort the character as per lexicographically\n",
        "    return text # sorted_text"
      ],
      "metadata": {
        "id": "2qinZ3gWLABe"
      },
      "execution_count": null,
      "outputs": []
    },
    {
      "cell_type": "code",
      "source": [
        "remove_duplicate(word)"
      ],
      "metadata": {
        "colab": {
          "base_uri": "https://localhost:8080/",
          "height": 35
        },
        "id": "8IVjuCUMhaPU",
        "outputId": "710f60fa-2a78-4bd0-de0b-0fd7953c8b2a"
      },
      "execution_count": null,
      "outputs": [
        {
          "output_type": "execute_result",
          "data": {
            "text/plain": [
              "'bac'"
            ],
            "application/vnd.google.colaboratory.intrinsic+json": {
              "type": "string"
            }
          },
          "metadata": {},
          "execution_count": 3
        }
      ]
    },
    {
      "cell_type": "markdown",
      "source": [
        "Que6 :write a python code to get it sorted in the ascending order without using pre-defined functions ?\n",
        "list1 = [4,7,8,1,3,2,7,7,9]"
      ],
      "metadata": {
        "id": "KYqS0qkipu0R"
      }
    },
    {
      "cell_type": "code",
      "source": [
        "def bubble_sort(arr):\n",
        "    n = len(arr)\n",
        "    # Traverse through all array elements\n",
        "    for i in range(n):\n",
        "        # Last i elements are already in place\n",
        "        for j in range(0, n-i-1):\n",
        "            # Traverse the array from 0 to n-i-1\n",
        "            # Swap if the element found is greater than the next element\n",
        "            if arr[j] > arr[j+1]:\n",
        "                arr[j], arr[j+1] = arr[j+1], arr[j]\n",
        "\n",
        "# Example usage:\n",
        "list1 = [4, 7, 8, 1, 3, 2, 7, 7, 9]\n",
        "bubble_sort(list1)\n",
        "print(list1)\n"
      ],
      "metadata": {
        "colab": {
          "base_uri": "https://localhost:8080/"
        },
        "id": "z-SbYlURhsgm",
        "outputId": "9094a145-c87d-4fbf-bc8f-aabbff4d3b3e"
      },
      "execution_count": null,
      "outputs": [
        {
          "output_type": "stream",
          "name": "stdout",
          "text": [
            "[1, 2, 3, 4, 7, 7, 7, 8, 9]\n"
          ]
        }
      ]
    },
    {
      "cell_type": "markdown",
      "source": [
        "Que7:Write the python code reverse the sting"
      ],
      "metadata": {
        "id": "I973F1qrz2b8"
      }
    },
    {
      "cell_type": "code",
      "source": [
        "s = \"the sky is blue\"\n",
        "output=\"blue is sky the\"\n",
        "def reverse_string(input):\n",
        "    word=list(str.split(input))\n",
        "    reverse =\" \".join(word[::-1])\n",
        "    return reverse\n",
        "reverse_string(s)\n"
      ],
      "metadata": {
        "colab": {
          "base_uri": "https://localhost:8080/",
          "height": 35
        },
        "id": "-z4WUoDt0CI3",
        "outputId": "1487c218-fab9-4fb9-a7b3-f8ca9e5bef87"
      },
      "execution_count": null,
      "outputs": [
        {
          "output_type": "execute_result",
          "data": {
            "text/plain": [
              "'blue is sky the'"
            ],
            "application/vnd.google.colaboratory.intrinsic+json": {
              "type": "string"
            }
          },
          "metadata": {},
          "execution_count": 8
        }
      ]
    },
    {
      "cell_type": "code",
      "source": [],
      "metadata": {
        "id": "eEn9ZBtf0sNM"
      },
      "execution_count": null,
      "outputs": []
    }
  ]
}