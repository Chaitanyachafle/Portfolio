{
  "nbformat": 4,
  "nbformat_minor": 0,
  "metadata": {
    "colab": {
      "provenance": [],
      "authorship_tag": "ABX9TyM0QN7ncPxRtLnMDvKv40SG",
      "include_colab_link": true
    },
    "kernelspec": {
      "name": "python3",
      "display_name": "Python 3"
    },
    "language_info": {
      "name": "python"
    }
  },
  "cells": [
    {
      "cell_type": "markdown",
      "metadata": {
        "id": "view-in-github",
        "colab_type": "text"
      },
      "source": [
        "<a href=\"https://colab.research.google.com/github/Chaitanyachafle/Portfolio/blob/main/Python_1_Revision_.ipynb\" target=\"_parent\"><img src=\"https://colab.research.google.com/assets/colab-badge.svg\" alt=\"Open In Colab\"/></a>"
      ]
    },
    {
      "cell_type": "code",
      "execution_count": 16,
      "metadata": {
        "colab": {
          "base_uri": "https://localhost:8080/"
        },
        "id": "OOMaJi1ngzvB",
        "outputId": "c4a677b1-a7d4-40e1-9e08-a5c89efa6e43"
      },
      "outputs": [
        {
          "output_type": "stream",
          "name": "stdout",
          "text": [
            "Hello World!\n"
          ]
        }
      ],
      "source": [
        "x=\"Hello World!\"\n",
        "print(x)"
      ]
    },
    {
      "cell_type": "code",
      "source": [
        "print(.5)"
      ],
      "metadata": {
        "colab": {
          "base_uri": "https://localhost:8080/"
        },
        "id": "qX2Ys4Rsi2WT",
        "outputId": "ddfe8191-9abc-434d-c370-c85c3e681240"
      },
      "execution_count": 17,
      "outputs": [
        {
          "output_type": "stream",
          "name": "stdout",
          "text": [
            "0.5\n"
          ]
        }
      ]
    },
    {
      "cell_type": "code",
      "source": [
        "print(None)"
      ],
      "metadata": {
        "colab": {
          "base_uri": "https://localhost:8080/"
        },
        "id": "_1psaC8ti-fk",
        "outputId": "4ef00369-9f2b-4440-fadc-3633e6a7c553"
      },
      "execution_count": 19,
      "outputs": [
        {
          "output_type": "stream",
          "name": "stdout",
          "text": [
            "None\n"
          ]
        }
      ]
    },
    {
      "cell_type": "code",
      "source": [
        "print(4+6J) # Complex Number"
      ],
      "metadata": {
        "colab": {
          "base_uri": "https://localhost:8080/"
        },
        "id": "Ds-ImOW8jF_M",
        "outputId": "1dd494b2-d5cc-4ebc-ca0e-1482c350808e"
      },
      "execution_count": 20,
      "outputs": [
        {
          "output_type": "stream",
          "name": "stdout",
          "text": [
            "(4+6j)\n"
          ]
        }
      ]
    },
    {
      "cell_type": "code",
      "source": [
        "print(type(\"hello World!\"))"
      ],
      "metadata": {
        "colab": {
          "base_uri": "https://localhost:8080/"
        },
        "id": "rgzzgCBKjMRL",
        "outputId": "843d6223-8253-4cb6-b2d4-8a02f90cf6e9"
      },
      "execution_count": 23,
      "outputs": [
        {
          "output_type": "stream",
          "name": "stdout",
          "text": [
            "<class 'str'>\n"
          ]
        }
      ]
    },
    {
      "cell_type": "code",
      "source": [
        "print(type(4.23))"
      ],
      "metadata": {
        "colab": {
          "base_uri": "https://localhost:8080/"
        },
        "id": "uLr2aog0jdSE",
        "outputId": "47e0a524-6b95-4377-8cb3-9715d7db0b94"
      },
      "execution_count": 24,
      "outputs": [
        {
          "output_type": "stream",
          "name": "stdout",
          "text": [
            "<class 'float'>\n"
          ]
        }
      ]
    },
    {
      "cell_type": "code",
      "source": [
        "Chaitanya=\" Awesome-\"\n",
        "print(Chaitanya)"
      ],
      "metadata": {
        "colab": {
          "base_uri": "https://localhost:8080/"
        },
        "id": "pJoonRXRjjgw",
        "outputId": "67f5aeec-b7c7-42bf-c1cc-6552b8c670a3"
      },
      "execution_count": 26,
      "outputs": [
        {
          "output_type": "stream",
          "name": "stdout",
          "text": [
            " Awesome-\n"
          ]
        }
      ]
    },
    {
      "cell_type": "code",
      "source": [
        "print(54,45,\"Hello\",True)"
      ],
      "metadata": {
        "colab": {
          "base_uri": "https://localhost:8080/"
        },
        "id": "mh2iHHQVjyTV",
        "outputId": "8cef3562-1de3-4b82-8832-21b1f14b847f"
      },
      "execution_count": 27,
      "outputs": [
        {
          "output_type": "stream",
          "name": "stdout",
          "text": [
            "54 45 Hello True\n"
          ]
        }
      ]
    },
    {
      "cell_type": "code",
      "source": [
        "print(32,32,32,\"Hell0\",False,sep=\" \") # sep= \" \" is used for Space or Special character"
      ],
      "metadata": {
        "colab": {
          "base_uri": "https://localhost:8080/"
        },
        "id": "Gu1eM-MQkuYw",
        "outputId": "22f789e8-d819-4138-be10-64de8fd365a1"
      },
      "execution_count": 37,
      "outputs": [
        {
          "output_type": "stream",
          "name": "stdout",
          "text": [
            "32 32 32 Hell0 False\n"
          ]
        }
      ]
    },
    {
      "cell_type": "code",
      "source": [
        "print(32,32,32,\"Hell0\",False,sep=\"\\n\") # \\n is character for \"Enter\""
      ],
      "metadata": {
        "colab": {
          "base_uri": "https://localhost:8080/"
        },
        "id": "hr0RZDNylnDw",
        "outputId": "e69674d5-0428-4663-8d0a-874c376ba23e"
      },
      "execution_count": 38,
      "outputs": [
        {
          "output_type": "stream",
          "name": "stdout",
          "text": [
            "32\n",
            "32\n",
            "32\n",
            "Hell0\n",
            "False\n"
          ]
        }
      ]
    },
    {
      "cell_type": "code",
      "source": [
        "# End Argument\n",
        "print(32,21,54,\"Hello\")"
      ],
      "metadata": {
        "colab": {
          "base_uri": "https://localhost:8080/"
        },
        "id": "jE49J65Ol4Dg",
        "outputId": "755e5d00-c9b6-4857-bdd9-813ffffa0562"
      },
      "execution_count": 42,
      "outputs": [
        {
          "output_type": "stream",
          "name": "stdout",
          "text": [
            "32 21 54 Hello\n"
          ]
        }
      ]
    },
    {
      "cell_type": "code",
      "source": [
        "print(\"Hello\"\"World\",end=\"\")\n"
      ],
      "metadata": {
        "colab": {
          "base_uri": "https://localhost:8080/"
        },
        "id": "UzhAIX7EmgpO",
        "outputId": "079d54b7-64d4-4c62-bbca-2a769424fadf"
      },
      "execution_count": 50,
      "outputs": [
        {
          "output_type": "stream",
          "name": "stdout",
          "text": [
            "HelloWorld\n"
          ]
        }
      ]
    },
    {
      "cell_type": "code",
      "source": [
        "x=5\n",
        "y=x/100\n",
        "print(y)"
      ],
      "metadata": {
        "colab": {
          "base_uri": "https://localhost:8080/"
        },
        "id": "Y29Rs9GXnCC_",
        "outputId": "109007e0-f6a9-48cc-af61-149e661af155"
      },
      "execution_count": 55,
      "outputs": [
        {
          "output_type": "stream",
          "name": "stdout",
          "text": [
            "0.05\n"
          ]
        }
      ]
    },
    {
      "cell_type": "code",
      "source": [
        "any_input=input()\n",
        "print(any_input)"
      ],
      "metadata": {
        "colab": {
          "base_uri": "https://localhost:8080/"
        },
        "id": "qv14XPLxhXj2",
        "outputId": "05cfc435-ecbc-4dca-b8c3-aecb31cf2f24"
      },
      "execution_count": 6,
      "outputs": [
        {
          "output_type": "stream",
          "name": "stdout",
          "text": [
            "Hello World!\n",
            "Hello World!\n"
          ]
        }
      ]
    },
    {
      "cell_type": "code",
      "source": [
        "type(any_input)"
      ],
      "metadata": {
        "colab": {
          "base_uri": "https://localhost:8080/"
        },
        "id": "ueMUgPtshfu_",
        "outputId": "99a574ab-554c-41fc-d23e-decf644460d2"
      },
      "execution_count": 7,
      "outputs": [
        {
          "output_type": "execute_result",
          "data": {
            "text/plain": [
              "str"
            ]
          },
          "metadata": {},
          "execution_count": 7
        }
      ]
    },
    {
      "cell_type": "code",
      "source": [
        "x=1234"
      ],
      "metadata": {
        "id": "Ai6pfyLFiDEi"
      },
      "execution_count": null,
      "outputs": []
    },
    {
      "cell_type": "code",
      "source": [
        "x=1223\n",
        "float_x=x\n",
        "print(float_x)"
      ],
      "metadata": {
        "colab": {
          "base_uri": "https://localhost:8080/"
        },
        "id": "TcmofBARiFHH",
        "outputId": "3f07a548-10a4-4e02-9cbf-a964fab93897"
      },
      "execution_count": 14,
      "outputs": [
        {
          "output_type": "stream",
          "name": "stdout",
          "text": [
            "1223\n"
          ]
        }
      ]
    },
    {
      "cell_type": "code",
      "source": [
        "num1=int(input())\n",
        "num2=int(input())\n",
        "print(num1+num2)"
      ],
      "metadata": {
        "colab": {
          "base_uri": "https://localhost:8080/"
        },
        "id": "eMgukfftiyou",
        "outputId": "4c0445fc-5aab-497c-f9ff-b92caaa928a7"
      },
      "execution_count": 15,
      "outputs": [
        {
          "output_type": "stream",
          "name": "stdout",
          "text": [
            "23\n",
            "45\n",
            "68\n"
          ]
        }
      ]
    },
    {
      "cell_type": "code",
      "source": [
        "x=10+3\n",
        "print(x)"
      ],
      "metadata": {
        "colab": {
          "base_uri": "https://localhost:8080/"
        },
        "id": "4h0uhrzdjFgX",
        "outputId": "6683839f-3226-4225-97be-7ba7e82950f4"
      },
      "execution_count": 18,
      "outputs": [
        {
          "output_type": "stream",
          "name": "stdout",
          "text": [
            "13\n"
          ]
        }
      ]
    },
    {
      "cell_type": "code",
      "source": [
        "10.3 * 3 # result in float"
      ],
      "metadata": {
        "colab": {
          "base_uri": "https://localhost:8080/"
        },
        "id": "I2AKdEU8jXKq",
        "outputId": "349422dd-2d80-481e-b3e1-bdb68aae269a"
      },
      "execution_count": 19,
      "outputs": [
        {
          "output_type": "execute_result",
          "data": {
            "text/plain": [
              "30.900000000000002"
            ]
          },
          "metadata": {},
          "execution_count": 19
        }
      ]
    },
    {
      "cell_type": "code",
      "source": [
        "10/3 # result in float\n",
        "10//3 # result in integer it get floor by // function\n"
      ],
      "metadata": {
        "colab": {
          "base_uri": "https://localhost:8080/"
        },
        "id": "eTI06OdSjfJz",
        "outputId": "7d1a98be-8212-4d2c-b61e-31b9cba058cd"
      },
      "execution_count": 21,
      "outputs": [
        {
          "output_type": "execute_result",
          "data": {
            "text/plain": [
              "3"
            ]
          },
          "metadata": {},
          "execution_count": 21
        }
      ]
    },
    {
      "cell_type": "code",
      "source": [
        " # Exponentiation Operator-power"
      ],
      "metadata": {
        "id": "UWb1zvbFjusN"
      },
      "execution_count": 23,
      "outputs": []
    },
    {
      "cell_type": "code",
      "source": [
        "10**2"
      ],
      "metadata": {
        "colab": {
          "base_uri": "https://localhost:8080/"
        },
        "id": "8c3wCpDxj7jc",
        "outputId": "082e2f28-ffab-4740-f439-8e4048f20c23"
      },
      "execution_count": 24,
      "outputs": [
        {
          "output_type": "execute_result",
          "data": {
            "text/plain": [
              "100"
            ]
          },
          "metadata": {},
          "execution_count": 24
        }
      ]
    },
    {
      "cell_type": "code",
      "source": [
        "5.0**3.0"
      ],
      "metadata": {
        "colab": {
          "base_uri": "https://localhost:8080/"
        },
        "id": "Tys740zyj-KT",
        "outputId": "be155f16-76d2-4a57-bf48-4edd9822cef8"
      },
      "execution_count": 26,
      "outputs": [
        {
          "output_type": "execute_result",
          "data": {
            "text/plain": [
              "125.0"
            ]
          },
          "metadata": {},
          "execution_count": 26
        }
      ]
    },
    {
      "cell_type": "code",
      "source": [
        "# Floor divisio Operator\n",
        "10//3"
      ],
      "metadata": {
        "colab": {
          "base_uri": "https://localhost:8080/"
        },
        "id": "0WRJH56EkFsQ",
        "outputId": "aefa7f58-f6f6-4044-bee6-b842814f7126"
      },
      "execution_count": 27,
      "outputs": [
        {
          "output_type": "execute_result",
          "data": {
            "text/plain": [
              "3"
            ]
          },
          "metadata": {},
          "execution_count": 27
        }
      ]
    },
    {
      "cell_type": "code",
      "source": [
        " # Biggetst integer < -3.33\n",
        " 10/3 = 3.333\n",
        " 10//3"
      ],
      "metadata": {
        "colab": {
          "base_uri": "https://localhost:8080/"
        },
        "id": "t4bpZd23kOwY",
        "outputId": "e55ba4d2-8314-4a7e-ebba-742da6957c74"
      },
      "execution_count": 30,
      "outputs": [
        {
          "output_type": "execute_result",
          "data": {
            "text/plain": [
              "3"
            ]
          },
          "metadata": {},
          "execution_count": 30
        }
      ]
    },
    {
      "cell_type": "code",
      "source": [
        "# Modulus Operator\n",
        "10 % 3 # gives us reminder"
      ],
      "metadata": {
        "colab": {
          "base_uri": "https://localhost:8080/"
        },
        "id": "pOavibfVkge4",
        "outputId": "f482510a-d0f6-438f-ccbb-bb790e6746ec"
      },
      "execution_count": 31,
      "outputs": [
        {
          "output_type": "execute_result",
          "data": {
            "text/plain": [
              "1"
            ]
          },
          "metadata": {},
          "execution_count": 31
        }
      ]
    },
    {
      "cell_type": "code",
      "source": [
        "10 %  3"
      ],
      "metadata": {
        "colab": {
          "base_uri": "https://localhost:8080/"
        },
        "id": "3f_0x1HkkoRc",
        "outputId": "4b6dd026-0483-442c-ed4c-d9df453fb224"
      },
      "execution_count": 33,
      "outputs": [
        {
          "output_type": "execute_result",
          "data": {
            "text/plain": [
              "1"
            ]
          },
          "metadata": {},
          "execution_count": 33
        }
      ]
    },
    {
      "cell_type": "code",
      "source": [
        "a=1234\n",
        "a % 10"
      ],
      "metadata": {
        "colab": {
          "base_uri": "https://localhost:8080/"
        },
        "id": "JyiyuGD4lLk2",
        "outputId": "0ecd877b-a20b-4809-ab4e-8caf68c3f874"
      },
      "execution_count": 34,
      "outputs": [
        {
          "output_type": "execute_result",
          "data": {
            "text/plain": [
              "4"
            ]
          },
          "metadata": {},
          "execution_count": 34
        }
      ]
    },
    {
      "cell_type": "code",
      "source": [
        "a//10"
      ],
      "metadata": {
        "colab": {
          "base_uri": "https://localhost:8080/"
        },
        "id": "plT_nyNFlR0L",
        "outputId": "37b4198d-f529-4d6f-83c9-0b0d232fa182"
      },
      "execution_count": 35,
      "outputs": [
        {
          "output_type": "execute_result",
          "data": {
            "text/plain": [
              "123"
            ]
          },
          "metadata": {},
          "execution_count": 35
        }
      ]
    },
    {
      "cell_type": "code",
      "source": [
        "1.4 + 1.6 + 1.2"
      ],
      "metadata": {
        "colab": {
          "base_uri": "https://localhost:8080/"
        },
        "id": "hn41EAOIlg1R",
        "outputId": "6ef0e6d8-3c15-45eb-f7af-5275ec8c9a05"
      },
      "execution_count": 36,
      "outputs": [
        {
          "output_type": "execute_result",
          "data": {
            "text/plain": [
              "4.2"
            ]
          },
          "metadata": {},
          "execution_count": 36
        }
      ]
    },
    {
      "cell_type": "code",
      "source": [
        "1.2 + 1.4 +1.6  # What is the binary representation of 2.6"
      ],
      "metadata": {
        "colab": {
          "base_uri": "https://localhost:8080/"
        },
        "id": "tfesqw1LlyTk",
        "outputId": "c266c819-0b04-426c-efc4-811103b6787c"
      },
      "execution_count": 39,
      "outputs": [
        {
          "output_type": "execute_result",
          "data": {
            "text/plain": [
              "4.199999999999999"
            ]
          },
          "metadata": {},
          "execution_count": 39
        }
      ]
    },
    {
      "cell_type": "code",
      "source": [
        "10-4//2"
      ],
      "metadata": {
        "colab": {
          "base_uri": "https://localhost:8080/"
        },
        "id": "WdDLxCEzlnZ5",
        "outputId": "e62bf01c-c4a1-4cac-f07f-3fee100f514e"
      },
      "execution_count": 38,
      "outputs": [
        {
          "output_type": "execute_result",
          "data": {
            "text/plain": [
              "8"
            ]
          },
          "metadata": {},
          "execution_count": 38
        }
      ]
    },
    {
      "cell_type": "code",
      "source": [
        "10/4*3"
      ],
      "metadata": {
        "colab": {
          "base_uri": "https://localhost:8080/"
        },
        "id": "IGbADQcPltvp",
        "outputId": "c60e237b-357f-4d0c-c568-9290c8a10218"
      },
      "execution_count": 43,
      "outputs": [
        {
          "output_type": "execute_result",
          "data": {
            "text/plain": [
              "7.5"
            ]
          },
          "metadata": {},
          "execution_count": 43
        }
      ]
    },
    {
      "cell_type": "code",
      "source": [
        "2.5 *3"
      ],
      "metadata": {
        "colab": {
          "base_uri": "https://localhost:8080/"
        },
        "id": "nVbEGnECmNv6",
        "outputId": "e73c29d5-c54c-46a3-f4b6-f64abd2a41cf"
      },
      "execution_count": 42,
      "outputs": [
        {
          "output_type": "execute_result",
          "data": {
            "text/plain": [
              "7.5"
            ]
          },
          "metadata": {},
          "execution_count": 42
        }
      ]
    },
    {
      "cell_type": "code",
      "source": [
        "10 - 4 * 2 + 5-6//2 # (BODMAS)\n",
        "# 10- 8 + 5 - 6 //2\n",
        "# 10 - 8 + 5 - 3\n",
        "# 2 + 5 - 3\n",
        "# 7 - 3\n",
        "# 4"
      ],
      "metadata": {
        "colab": {
          "base_uri": "https://localhost:8080/"
        },
        "id": "GCxc0s2xmSSe",
        "outputId": "1beeb112-cf37-48a4-c7c9-33053ef51e39"
      },
      "execution_count": 44,
      "outputs": [
        {
          "output_type": "execute_result",
          "data": {
            "text/plain": [
              "4"
            ]
          },
          "metadata": {},
          "execution_count": 44
        }
      ]
    },
    {
      "cell_type": "code",
      "source": [
        "# Truthy and Flasy value"
      ],
      "metadata": {
        "id": "isF_5ihWnETE"
      },
      "execution_count": null,
      "outputs": []
    },
    {
      "cell_type": "code",
      "source": [
        "bool(1) # +Ve  and -Ve value is a True"
      ],
      "metadata": {
        "colab": {
          "base_uri": "https://localhost:8080/"
        },
        "id": "mpMmDOkdnHUZ",
        "outputId": "11612690-d93b-463b-dd88-acbb5ae7bd42"
      },
      "execution_count": 45,
      "outputs": [
        {
          "output_type": "execute_result",
          "data": {
            "text/plain": [
              "True"
            ]
          },
          "metadata": {},
          "execution_count": 45
        }
      ]
    },
    {
      "cell_type": "code",
      "source": [
        "bool(0) # 0 is always False"
      ],
      "metadata": {
        "colab": {
          "base_uri": "https://localhost:8080/"
        },
        "id": "zv2_P_9onQdW",
        "outputId": "af8ad13a-2413-4fe3-9275-aa60046f1b1f"
      },
      "execution_count": 46,
      "outputs": [
        {
          "output_type": "execute_result",
          "data": {
            "text/plain": [
              "False"
            ]
          },
          "metadata": {},
          "execution_count": 46
        }
      ]
    },
    {
      "cell_type": "code",
      "source": [
        "bool(\"Hello\")"
      ],
      "metadata": {
        "colab": {
          "base_uri": "https://localhost:8080/"
        },
        "id": "7kxEL8OgnR0I",
        "outputId": "fca195ef-3f31-4be9-d181-a17fb1b5dddc"
      },
      "execution_count": 47,
      "outputs": [
        {
          "output_type": "execute_result",
          "data": {
            "text/plain": [
              "True"
            ]
          },
          "metadata": {},
          "execution_count": 47
        }
      ]
    },
    {
      "cell_type": "code",
      "source": [
        "bool(\"\") # Empty string"
      ],
      "metadata": {
        "colab": {
          "base_uri": "https://localhost:8080/"
        },
        "id": "05Kos8gUnfgp",
        "outputId": "aa101e0a-2e7b-4a4c-8e12-0e6d2e08adb1"
      },
      "execution_count": 49,
      "outputs": [
        {
          "output_type": "execute_result",
          "data": {
            "text/plain": [
              "False"
            ]
          },
          "metadata": {},
          "execution_count": 49
        }
      ]
    },
    {
      "cell_type": "code",
      "source": [
        "'''\n",
        "Boolean Values (TRUTHY AND FALSY) ->\n",
        "\n",
        "    - Numbers\n",
        "        - Any number other than 0 -> TRUTHY\n",
        "        - 0 - FALSY\n",
        "    - Strings\n",
        "        - Any non empty string -> TRUTHY\n",
        "        - Empty strings -> FALSY\n",
        "    - None -> FALSY"
      ],
      "metadata": {
        "id": "-yMCYk3TnuWb"
      },
      "execution_count": null,
      "outputs": []
    },
    {
      "cell_type": "code",
      "source": [
        "bool(\"False\")"
      ],
      "metadata": {
        "colab": {
          "base_uri": "https://localhost:8080/"
        },
        "id": "cQQ1JUBNnvJB",
        "outputId": "295f025b-8da9-41e4-fa7f-27bee6eff9bb"
      },
      "execution_count": 50,
      "outputs": [
        {
          "output_type": "execute_result",
          "data": {
            "text/plain": [
              "True"
            ]
          },
          "metadata": {},
          "execution_count": 50
        }
      ]
    },
    {
      "cell_type": "code",
      "source": [
        "5 < 6"
      ],
      "metadata": {
        "colab": {
          "base_uri": "https://localhost:8080/"
        },
        "id": "tb0Kp_dvnz9s",
        "outputId": "da865331-06e4-4b07-ab42-3684dc5688f9"
      },
      "execution_count": 51,
      "outputs": [
        {
          "output_type": "execute_result",
          "data": {
            "text/plain": [
              "True"
            ]
          },
          "metadata": {},
          "execution_count": 51
        }
      ]
    },
    {
      "cell_type": "code",
      "source": [
        "5 >6"
      ],
      "metadata": {
        "colab": {
          "base_uri": "https://localhost:8080/"
        },
        "id": "d17LuhOYn3KD",
        "outputId": "a11fa70f-c9f9-4393-ccc1-04a12c04c082"
      },
      "execution_count": 52,
      "outputs": [
        {
          "output_type": "execute_result",
          "data": {
            "text/plain": [
              "False"
            ]
          },
          "metadata": {},
          "execution_count": 52
        }
      ]
    },
    {
      "cell_type": "code",
      "source": [
        "a= 5 >6\n",
        "b= 5 <6\n",
        "a==b"
      ],
      "metadata": {
        "colab": {
          "base_uri": "https://localhost:8080/"
        },
        "id": "aUDp88vfoBBy",
        "outputId": "107db4bf-e149-420f-97c6-ba0b3b1ba3e1"
      },
      "execution_count": 53,
      "outputs": [
        {
          "output_type": "execute_result",
          "data": {
            "text/plain": [
              "False"
            ]
          },
          "metadata": {},
          "execution_count": 53
        }
      ]
    },
    {
      "cell_type": "code",
      "source": [
        "\"aab\" > \"aaa\""
      ],
      "metadata": {
        "colab": {
          "base_uri": "https://localhost:8080/"
        },
        "id": "d2p7k748oL30",
        "outputId": "85d45547-583a-42fd-b0ea-cca5314e7674"
      },
      "execution_count": 55,
      "outputs": [
        {
          "output_type": "execute_result",
          "data": {
            "text/plain": [
              "True"
            ]
          },
          "metadata": {},
          "execution_count": 55
        }
      ]
    },
    {
      "cell_type": "code",
      "source": [
        "# Assigment Operator\n",
        "x=100\n",
        "y=100\n",
        "\n"
      ],
      "metadata": {
        "id": "WqaQsTS0oVJa"
      },
      "execution_count": 80,
      "outputs": []
    },
    {
      "cell_type": "code",
      "source": [
        "x *= 1\n",
        "y -= 50"
      ],
      "metadata": {
        "id": "ASpg5VCqolOy"
      },
      "execution_count": 81,
      "outputs": []
    },
    {
      "cell_type": "code",
      "source": [
        "x\n"
      ],
      "metadata": {
        "colab": {
          "base_uri": "https://localhost:8080/"
        },
        "id": "7PgWWoONo1Lr",
        "outputId": "67ab2926-a039-4ee7-a13d-21fb1a69d20b"
      },
      "execution_count": 82,
      "outputs": [
        {
          "output_type": "execute_result",
          "data": {
            "text/plain": [
              "100"
            ]
          },
          "metadata": {},
          "execution_count": 82
        }
      ]
    },
    {
      "cell_type": "code",
      "source": [
        " # and & OR operator\n",
        ""
      ],
      "metadata": {
        "id": "Lzm-lSHNqG69"
      },
      "execution_count": null,
      "outputs": []
    },
    {
      "cell_type": "code",
      "source": [
        "10>5 and 6>8"
      ],
      "metadata": {
        "colab": {
          "base_uri": "https://localhost:8080/"
        },
        "id": "AEyiLqoOqNpv",
        "outputId": "4c32bdf9-67e6-4594-a682-6e8311dd07c6"
      },
      "execution_count": 83,
      "outputs": [
        {
          "output_type": "execute_result",
          "data": {
            "text/plain": [
              "False"
            ]
          },
          "metadata": {},
          "execution_count": 83
        }
      ]
    },
    {
      "cell_type": "code",
      "source": [
        "10 >5 or 6 >8"
      ],
      "metadata": {
        "colab": {
          "base_uri": "https://localhost:8080/"
        },
        "id": "9vdXygUTqRZh",
        "outputId": "704c7523-cbae-4d90-f53b-e45345885a2a"
      },
      "execution_count": 84,
      "outputs": [
        {
          "output_type": "execute_result",
          "data": {
            "text/plain": [
              "True"
            ]
          },
          "metadata": {},
          "execution_count": 84
        }
      ]
    },
    {
      "cell_type": "code",
      "source": [
        "10 and 5"
      ],
      "metadata": {
        "colab": {
          "base_uri": "https://localhost:8080/"
        },
        "id": "sDWyldmcqX0w",
        "outputId": "0f3588d9-a8a8-49d9-d5db-ba36e5f11ce3"
      },
      "execution_count": 85,
      "outputs": [
        {
          "output_type": "execute_result",
          "data": {
            "text/plain": [
              "5"
            ]
          },
          "metadata": {},
          "execution_count": 85
        }
      ]
    },
    {
      "cell_type": "code",
      "source": [
        "# Control Statment"
      ],
      "metadata": {
        "id": "V7DCSRG-sz6g"
      },
      "execution_count": null,
      "outputs": []
    },
    {
      "cell_type": "code",
      "source": [
        "t=5\n",
        "if t > 10 :\n",
        "  print(\"i`m in\")\n",
        "else :\n",
        "  print(\"i`m out\")"
      ],
      "metadata": {
        "colab": {
          "base_uri": "https://localhost:8080/"
        },
        "id": "i5mnctpltIzw",
        "outputId": "e29b0ed1-123d-4299-a1fe-34164ef68660"
      },
      "execution_count": 89,
      "outputs": [
        {
          "output_type": "stream",
          "name": "stdout",
          "text": [
            "i`m out\n"
          ]
        }
      ]
    },
    {
      "cell_type": "code",
      "source": [
        "print(\"Hello World!\")\n",
        "if 50 > 40:\n",
        "  print(\"*\")\n",
        "  print(\"**\")\n",
        "  print(\"***\")\n",
        "print(\"4\")"
      ],
      "metadata": {
        "colab": {
          "base_uri": "https://localhost:8080/"
        },
        "id": "SoOL7_hwt_t7",
        "outputId": "eba57869-6fb9-400e-a204-7daff7d54659"
      },
      "execution_count": 90,
      "outputs": [
        {
          "output_type": "stream",
          "name": "stdout",
          "text": [
            "Hello World!\n",
            "*\n",
            "**\n",
            "***\n",
            "4\n"
          ]
        }
      ]
    },
    {
      "cell_type": "code",
      "source": [
        "print(\"Hello World!\")\n",
        "if 50 > 40:\n",
        "  print(\"*\",end=\" \")\n",
        "  print(\"**\")\n",
        "  print(\"***\")\n",
        "print(\"4\")"
      ],
      "metadata": {
        "colab": {
          "base_uri": "https://localhost:8080/"
        },
        "id": "cTouSNy0uVMu",
        "outputId": "586b6beb-a8d9-448c-ee78-bd2ef8745b70"
      },
      "execution_count": 96,
      "outputs": [
        {
          "output_type": "stream",
          "name": "stdout",
          "text": [
            "Hello World!\n",
            "* **\n",
            "***\n",
            "4\n"
          ]
        }
      ]
    },
    {
      "cell_type": "code",
      "source": [
        "if 50 > 40.0:\n",
        "  print(\"*\")\n",
        "  print(\"**\")\n",
        "  print(\"***\")\n",
        "else:\n",
        "  print(\"a\")\n",
        "  print(\"b\")\n",
        "  print(\"c\")"
      ],
      "metadata": {
        "colab": {
          "base_uri": "https://localhost:8080/"
        },
        "id": "5AuWORlPuotB",
        "outputId": "de5e060c-e35d-43ed-a526-958c04b3e939"
      },
      "execution_count": 101,
      "outputs": [
        {
          "output_type": "stream",
          "name": "stdout",
          "text": [
            "*\n",
            "**\n",
            "***\n"
          ]
        }
      ]
    },
    {
      "cell_type": "code",
      "source": [
        "num=int(input())\n",
        "result=num**3\n",
        "if result > 100:\n",
        "  print(\"Massive Number\")\n",
        "else :\n",
        "  print(\"Small Number\")\n",
        "\n",
        "print(\"Execution complete\")"
      ],
      "metadata": {
        "colab": {
          "base_uri": "https://localhost:8080/"
        },
        "id": "UJrkP8-mvAol",
        "outputId": "d9cc68b9-ec98-44c3-8210-f6909d0dac06"
      },
      "execution_count": 106,
      "outputs": [
        {
          "output_type": "stream",
          "name": "stdout",
          "text": [
            "5\n",
            "Massive Number\n",
            "Execution complete\n"
          ]
        }
      ]
    },
    {
      "cell_type": "code",
      "source": [
        "password=input(\"Enter your Password-\")\n",
        "password_2=input(\"Enter your password again-\")\n",
        "if password==password_2 :\n",
        "  print(\"Sucessfully Verified!\")\n",
        "else:\n",
        "  print(\"Verification Falied!\")"
      ],
      "metadata": {
        "colab": {
          "base_uri": "https://localhost:8080/"
        },
        "id": "R3Ca4L51vxhM",
        "outputId": "9eb8a3ab-39fd-44fe-e002-9a8020ee7f45"
      },
      "execution_count": 109,
      "outputs": [
        {
          "output_type": "stream",
          "name": "stdout",
          "text": [
            "Enter your Password-qwe\n",
            "Enter your password again-asd\n",
            "Verification Falied!\n"
          ]
        }
      ]
    },
    {
      "cell_type": "code",
      "source": [
        "time=int(input())\n",
        "if time >9 and time < 12:\n",
        "  print(\"Good Morning\")\n",
        "else:\n",
        "  if time > 12 and time <15 :\n",
        "    print(\" Good Afternoon\")\n",
        "  else:\n",
        "    if time > 15 and time < 20:\n",
        "      print(\"Good Evening\")\n",
        "    else:\n",
        "      print(\"Good Night\")"
      ],
      "metadata": {
        "colab": {
          "base_uri": "https://localhost:8080/"
        },
        "id": "sRqdqjhkwaE0",
        "outputId": "b0ebf8b9-1981-4673-b313-f543e6158215"
      },
      "execution_count": 112,
      "outputs": [
        {
          "output_type": "stream",
          "name": "stdout",
          "text": [
            "13\n",
            " Good Afternoon\n"
          ]
        }
      ]
    },
    {
      "cell_type": "code",
      "source": [
        "time=int(input())\n",
        "if time >9 and time < 12:\n",
        "  print(\"Good Morning\")\n",
        "elif time > 12 and time <15 :\n",
        "    print(\" Good Afternoon\")\n",
        "elif time > 15 and time < 20:\n",
        "    print(\"Good Evening\")\n",
        "else:\n",
        "    print(\"Good Night\")"
      ],
      "metadata": {
        "colab": {
          "base_uri": "https://localhost:8080/"
        },
        "id": "TzD1pPqBxkfI",
        "outputId": "fd2bb2e9-b8fd-4153-ce8b-6fe13672db9e"
      },
      "execution_count": 115,
      "outputs": [
        {
          "output_type": "stream",
          "name": "stdout",
          "text": [
            "20\n",
            "Good Night\n"
          ]
        }
      ]
    },
    {
      "cell_type": "code",
      "source": [
        "num=int(input())\n",
        "if num >0:\n",
        "  print(\"Positive\")\n",
        "elif num==0:\n",
        "  print(\"Zero\")\n",
        "else:\n",
        "  print(\"Negative\")"
      ],
      "metadata": {
        "colab": {
          "base_uri": "https://localhost:8080/"
        },
        "id": "bs8jqsayx5PJ",
        "outputId": "0b157b84-1450-41b1-b725-072ddf069c7f"
      },
      "execution_count": 118,
      "outputs": [
        {
          "output_type": "stream",
          "name": "stdout",
          "text": [
            "-10\n",
            "Negative\n"
          ]
        }
      ]
    },
    {
      "cell_type": "code",
      "source": [
        "num=int(input())\n",
        "if num >=0 and num <=9:\n",
        "  result= num **5 % 50 +20 -4\n",
        "  if result >  15 :\n",
        "    print(\"Black\")\n",
        "  else:\n",
        "    print(\"Blue\")\n",
        "else:\n",
        "  print(\"Invalid Input\")\n"
      ],
      "metadata": {
        "colab": {
          "base_uri": "https://localhost:8080/"
        },
        "id": "ybc-HTr-ykFh",
        "outputId": "e7136ff7-d262-4ea2-ce60-7e7cfd2dd3a8"
      },
      "execution_count": 120,
      "outputs": [
        {
          "output_type": "stream",
          "name": "stdout",
          "text": [
            "11\n",
            "Invalid Input\n"
          ]
        }
      ]
    },
    {
      "cell_type": "code",
      "source": [
        "num=int(input())\n",
        "if num <0 and num >9:\n",
        "  print(\"Invalid Input\")\n",
        "else:\n",
        "  result=num **2 % 5 +23-3\n",
        "  if result >20:\n",
        "    print(\"black\")\n",
        "  else:\n",
        "    print(\"blue\")"
      ],
      "metadata": {
        "colab": {
          "base_uri": "https://localhost:8080/"
        },
        "id": "4wOrJUX60Uff",
        "outputId": "d6b9442a-29ef-4cb5-8b47-ecb56da369d9"
      },
      "execution_count": 122,
      "outputs": [
        {
          "output_type": "stream",
          "name": "stdout",
          "text": [
            "-6\n",
            "black\n"
          ]
        }
      ]
    },
    {
      "cell_type": "code",
      "source": [
        "num=int(input())\n",
        "if num % 3==0 and num % 5==0:\n",
        "  print(\"FIZZBUZZ\")\n",
        "elif num % 3==0:\n",
        "  print(\"BUZZ\")\n",
        "elif num % 5==0:\n",
        "  print(\"FIZZ\")\n"
      ],
      "metadata": {
        "colab": {
          "base_uri": "https://localhost:8080/"
        },
        "id": "7ZI5XpUW06Ap",
        "outputId": "6fb4c484-6d01-46ca-b1f6-50c723f93bcc"
      },
      "execution_count": 126,
      "outputs": [
        {
          "output_type": "stream",
          "name": "stdout",
          "text": [
            "-30\n",
            "FIZZBUZZ\n"
          ]
        }
      ]
    },
    {
      "cell_type": "code",
      "source": [
        "kilo_meter=int(input())\n",
        "stall_time=float(input())\n",
        "amount=kilo_meter * stall_time\n",
        "if kilo_meter < 10:\n",
        "  print(amount*10)\n",
        "elif kilo_meter >11 and kilo_meter <= 40:\n",
        "  print(amount*9)\n",
        "elif kilo_meter >=41 and kilo_meter <= 100:\n",
        "  print(amount*8)\n",
        "else :\n",
        "  print(amount*6)"
      ],
      "metadata": {
        "colab": {
          "base_uri": "https://localhost:8080/"
        },
        "id": "rwWPt3M12Jwj",
        "outputId": "f578ae2a-7e91-4258-bd1a-dea0ae7b0b0f"
      },
      "execution_count": 134,
      "outputs": [
        {
          "output_type": "stream",
          "name": "stdout",
          "text": [
            "45\n",
            "2\n",
            "720.0\n"
          ]
        }
      ]
    },
    {
      "cell_type": "code",
      "source": [],
      "metadata": {
        "id": "Uvabv26i5Ec7"
      },
      "execution_count": null,
      "outputs": []
    }
  ]
}