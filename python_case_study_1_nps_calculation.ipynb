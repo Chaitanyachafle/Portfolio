{
  "nbformat": 4,
  "nbformat_minor": 0,
  "metadata": {
    "colab": {
      "provenance": [],
      "authorship_tag": "ABX9TyOrAtZrj4Gjn9v8TK2kX3QR",
      "include_colab_link": true
    },
    "kernelspec": {
      "name": "python3",
      "display_name": "Python 3"
    },
    "language_info": {
      "name": "python"
    }
  },
  "cells": [
    {
      "cell_type": "markdown",
      "metadata": {
        "id": "view-in-github",
        "colab_type": "text"
      },
      "source": [
        "<a href=\"https://colab.research.google.com/github/Chaitanyachafle/Portfolio/blob/main/python_case_study_1_nps_calculation.ipynb\" target=\"_parent\"><img src=\"https://colab.research.google.com/assets/colab-badge.svg\" alt=\"Open In Colab\"/></a>"
      ]
    },
    {
      "cell_type": "markdown",
      "source": [
        "Que-1 Calculate the NPS for company.\n",
        "Rating below 6 called as defaulter\n",
        "Rating 7 & 8 called as Passive\n",
        "Rating above 6 called as Promoter\n",
        "Formula : NPS = % Promoter - % Defaulter"
      ],
      "metadata": {
        "id": "y-laQ1R3fRAM"
      }
    },
    {
      "cell_type": "code",
      "source": [],
      "metadata": {
        "id": "89xKTCzTksVG"
      },
      "execution_count": null,
      "outputs": []
    },
    {
      "cell_type": "code",
      "source": [
        "import numpy as np"
      ],
      "metadata": {
        "id": "v2n-M_EUf98n"
      },
      "execution_count": null,
      "outputs": []
    },
    {
      "cell_type": "code",
      "execution_count": null,
      "metadata": {
        "colab": {
          "base_uri": "https://localhost:8080/"
        },
        "id": "394FDohJfJri",
        "outputId": "f97c60a5-c3d9-4f01-f807-fdbb41b3f0e2"
      },
      "outputs": [
        {
          "output_type": "stream",
          "name": "stdout",
          "text": [
            "Downloading...\n",
            "From: https://drive.google.com/uc?id=1c0ClC8SrPwJq5rrkyMKyPn80nyHcFikK\n",
            "To: /content/survey.txt\n",
            "\r  0% 0.00/2.55k [00:00<?, ?B/s]\r100% 2.55k/2.55k [00:00<00:00, 12.2MB/s]\n"
          ]
        }
      ],
      "source": [
        "!gdown 1c0ClC8SrPwJq5rrkyMKyPn80nyHcFikK"
      ]
    },
    {
      "cell_type": "code",
      "source": [
        "score = np.loadtxt(\"survey.txt\",dtype = \"int\")"
      ],
      "metadata": {
        "id": "rtjVUQgSf3uX"
      },
      "execution_count": null,
      "outputs": []
    },
    {
      "cell_type": "code",
      "source": [
        "score.ndim # Checking Dimension in array"
      ],
      "metadata": {
        "colab": {
          "base_uri": "https://localhost:8080/"
        },
        "id": "hzEh433zgP7T",
        "outputId": "d44bcebb-0d55-42e9-8d23-5e20152f1a21"
      },
      "execution_count": null,
      "outputs": [
        {
          "output_type": "execute_result",
          "data": {
            "text/plain": [
              "1"
            ]
          },
          "metadata": {},
          "execution_count": 7
        }
      ]
    },
    {
      "cell_type": "code",
      "source": [
        "score.shape"
      ],
      "metadata": {
        "colab": {
          "base_uri": "https://localhost:8080/"
        },
        "id": "IXcAle-CgY4h",
        "outputId": "49e50ccb-62f9-4a2d-c37f-fe5b54b4a57c"
      },
      "execution_count": null,
      "outputs": [
        {
          "output_type": "execute_result",
          "data": {
            "text/plain": [
              "(1167,)"
            ]
          },
          "metadata": {},
          "execution_count": 8
        }
      ]
    },
    {
      "cell_type": "code",
      "source": [
        "total_count= len(score) # Giving us total count to rating in sample set\n",
        "print(total_count)"
      ],
      "metadata": {
        "colab": {
          "base_uri": "https://localhost:8080/"
        },
        "id": "bgWM3l7-hkUM",
        "outputId": "e91dd41d-9c45-4920-9ebc-f8f34ae6a851"
      },
      "execution_count": null,
      "outputs": [
        {
          "output_type": "stream",
          "name": "stdout",
          "text": [
            "1167\n"
          ]
        }
      ]
    },
    {
      "cell_type": "code",
      "source": [
        "# calculating defaulter and Promoter count respectively"
      ],
      "metadata": {
        "id": "cYAWG_fGgrg8"
      },
      "execution_count": null,
      "outputs": []
    },
    {
      "cell_type": "code",
      "source": [
        "num_defaulter=len(score[score <6 ])/total_count\n",
        "print(num_defaulter)"
      ],
      "metadata": {
        "colab": {
          "base_uri": "https://localhost:8080/"
        },
        "id": "DCICSylrhFR8",
        "outputId": "d9bb25e7-3332-466d-93e0-d933a7564a04"
      },
      "execution_count": null,
      "outputs": [
        {
          "output_type": "stream",
          "name": "stdout",
          "text": [
            "0.28449014567266495\n"
          ]
        }
      ]
    },
    {
      "cell_type": "code",
      "source": [
        "num_promoter=len(score[score >=9 ])/total_count\n",
        "print(num_promoter)"
      ],
      "metadata": {
        "colab": {
          "base_uri": "https://localhost:8080/"
        },
        "id": "mUgc1FtihWkM",
        "outputId": "d3600e1a-d257-4e48-e196-6b594d70a9ff"
      },
      "execution_count": null,
      "outputs": [
        {
          "output_type": "stream",
          "name": "stdout",
          "text": [
            "0.5218508997429306\n"
          ]
        }
      ]
    },
    {
      "cell_type": "code",
      "source": [
        "#Calculating NPS"
      ],
      "metadata": {
        "id": "6cGK5qHRiHRk"
      },
      "execution_count": null,
      "outputs": []
    },
    {
      "cell_type": "code",
      "source": [
        "NPS = (num_promoter - num_defaulter) * 100\n",
        "print(\"NPS-\",NPS)"
      ],
      "metadata": {
        "colab": {
          "base_uri": "https://localhost:8080/"
        },
        "id": "b_4hq_gTiLwt",
        "outputId": "07797ce2-30ef-4a91-dfaa-a58b4f55bf57"
      },
      "execution_count": null,
      "outputs": [
        {
          "output_type": "stream",
          "name": "stdout",
          "text": [
            "NPS- 23.73607540702657\n"
          ]
        }
      ]
    },
    {
      "cell_type": "markdown",
      "source": [
        "Remark:A Net Promoter Score (NPS) of 23.74 is a positive score, but it's essential to understand what this score means in the context of your industry and customer expectations\n",
        "1. Follow Up with Detractors\n",
        "2. Enhance Customer Support\n",
        "3. Product service Imporvemnet\n",
        "4. Employee engagement activity"
      ],
      "metadata": {
        "id": "d2wfTuMIjejc"
      }
    }
  ]
}